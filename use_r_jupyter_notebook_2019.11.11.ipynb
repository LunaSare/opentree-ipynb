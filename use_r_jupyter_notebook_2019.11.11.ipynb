{
 "cells": [
  {
   "cell_type": "code",
   "execution_count": null,
   "metadata": {},
   "outputs": [],
   "source": [
    "# How to use R in a jupyter notebook    "
   ]
  },
  {
   "cell_type": "code",
   "execution_count": null,
   "metadata": {},
   "outputs": [],
   "source": [
    "# Option 1. Install an R kernel to do all R in a Jupyter notebooks\n",
    "# taken from https://www.datacamp.com/community/blog/jupyter-notebook-r\n",
    "\n",
    "# From the terminal, open R and do\n",
    "\n",
    "devtools::install_github('IRkernel/IRkernel') # install the package from github\n",
    "IRkernel::installspec(user = FALSE) # make R kernel available for all users (system wide)\n",
    "IRkernel::installspec() # make R kernel available for the current user\n"
   ]
  },
  {
   "cell_type": "code",
   "execution_count": null,
   "metadata": {},
   "outputs": [],
   "source": [
    "# Option 2. Use a mix of R and python in a jupyter notebook\n",
    "# taken from https://stackoverflow.com/questions/39008069/r-and-python-in-one-jupyter-notebook\n",
    "\n",
    "# from the terminal do\n",
    "pip install rpy2\n",
    "\n",
    "# on your jupyter notebook, do the following once\n",
    "\n",
    "%load_ext rpy2.ipython\n",
    "\n",
    "# then, in each cell you want to run R, do:\n",
    "\n",
    "%%R -i df -w 5 -h 5 --units in -r 200\n",
    "# imports df from global environment\n",
    "# makes default figure size 5 by 5 inches with 200 dpi resolution\n"
   ]
  }
 ],
 "metadata": {
  "kernelspec": {
   "display_name": "R",
   "language": "R",
   "name": "ir"
  },
  "language_info": {
   "codemirror_mode": "r",
   "file_extension": ".r",
   "mimetype": "text/x-r-source",
   "name": "R",
   "pygments_lexer": "r",
   "version": "3.6.0"
  }
 },
 "nbformat": 4,
 "nbformat_minor": 2
}
