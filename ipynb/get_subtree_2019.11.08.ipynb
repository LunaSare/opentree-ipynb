{
 "cells": [
  {
   "cell_type": "code",
   "execution_count": null,
   "metadata": {},
   "outputs": [],
   "source": [
    "# ATTENTION: To run this, make sure to run jupyter notebook from physcraper's virtual environment.\n",
    "\n",
    "# Development of function get_subtree:\n",
    "# Get an opentree synthetic tree for a rank X, from a clade Y,\n",
    "# distributed in geographic region Z.\n",
    "\n",
    "# arguments\n",
    "# ott_ids: Numeric. If given only one, it will get a subtree for the corresponding node\n",
    "         # If given 2 or more, it will give back an induced subtree\n",
    "# rank: Character string. Indicates the taxonomic rank to search for.\n",
    "# clade: Character string or number (?). Indicates a phylogenetic context to search for.\n",
    "# range: Character string. Indicates the geogaphic region to search for.\n",
    "# ott_version: Character string\n"
   ]
  },
  {
   "cell_type": "code",
   "execution_count": null,
   "metadata": {},
   "outputs": [],
   "source": [
    "# define arguments\n",
    "ott_ids = 494367\n",
    "rank = \"family\"\n",
    "ott_version = \"3.1\""
   ]
  },
  {
   "cell_type": "code",
   "execution_count": 2,
   "metadata": {},
   "outputs": [
    {
     "name": "stdout",
     "output_type": "stream",
     "text": [
      "--2019-12-03 13:37:36--  http://files.opentreeoflife.org/ott/ott3.1/ott3.1.tgz\n",
      "Resolving files.opentreeoflife.org... 129.237.33.155\n",
      "Connecting to files.opentreeoflife.org|129.237.33.155|:80... connected.\n",
      "HTTP request sent, awaiting response... 301 Moved Permanently\n",
      "Location: https://files.opentreeoflife.org/ott/ott3.1/ott3.1.tgz [following]\n",
      "--2019-12-03 13:37:36--  https://files.opentreeoflife.org/ott/ott3.1/ott3.1.tgz\n",
      "Connecting to files.opentreeoflife.org|129.237.33.155|:443... connected.\n",
      "HTTP request sent, awaiting response... 200 OK\n",
      "Length: 106275258 (101M) [application/x-gzip]\n",
      "Saving to: ‘ott3.1.tgz’\n",
      "\n",
      "ott3.1.tgz          100%[===================>] 101.35M  3.03MB/s    in 35s     \n",
      "\n",
      "2019-12-03 13:38:11 (2.93 MB/s) - ‘ott3.1.tgz’ saved [106275258/106275258]\n",
      "\n"
     ]
    }
   ],
   "source": [
    "# download the ott file\n",
    "! wget 'http://files.opentreeoflife.org/ott/ott3.1/ott3.1.tgz'"
   ]
  },
  {
   "cell_type": "code",
   "execution_count": null,
   "metadata": {},
   "outputs": [],
   "source": [
    "# unzip ott file\n",
    "import gzip\n",
    "import shutil\n",
    "with gzip.open('ott3.1.tgz', 'rb') as fin:\n",
    "    with open('ott3.1.tsv', 'wb') as fout:\n",
    "        shutil.copyfileobj(fin, fout)"
   ]
  },
  {
   "cell_type": "code",
   "execution_count": 4,
   "metadata": {},
   "outputs": [],
   "source": [
    "# subset ott file to get lines with the rank that we want and clean of invalid ranks\n",
    "# this will only keep \"good\" ranks:\n",
    "! grep -a \"family\" ott3.1.tsv | egrep -v \"Incertae\" | egrep -v \"no rank\" | egrep -v \"major_rank_conflict\" | egrep -v \"uncultured\" | egrep -v \"barren\" | egrep -v \"extinct\" | egrep -v \"incertae\" | egrep -v \"unplaced\" | egrep -v \"hidden\" | egrep -v \"inconsistent\"  | egrep -v \"synonym\" | egrep -v \"in family\" | egrep -v \"species\" | egrep -v \"genus\" | egrep -v \"superfamily\" | egrep -v \"subfamily\"> ott3.1red.tsv\n"
   ]
  },
  {
   "cell_type": "code",
   "execution_count": 5,
   "metadata": {},
   "outputs": [],
   "source": [
    "# read the ott taxonomy file and get the ott ids\n",
    "taxonomy_tsv = 'ott3.1red.tsv'\n",
    "fi = open(taxonomy_tsv).readlines()\n",
    "ott_ids = []\n",
    "for lin in fi:\n",
    "    lii = lin.split(\"\\t\")\n",
    "    ott_ids.append(lii[0])"
   ]
  },
  {
   "cell_type": "code",
   "execution_count": 6,
   "metadata": {},
   "outputs": [],
   "source": [
    "# now get the subtree of ott ids\n",
    "import os\n",
    "from physcraper import opentree_helpers\n",
    "from physcraper.treetaxon import TreeTax\n",
    "\n",
    "# json_file = \"../OpenTree_SSB2020/tutorial/main.json\"\n",
    "# assert os.path.isfile(json_file) #check the file exists and the path is correct\n",
    "\n",
    "# otu_dict = opentree_helpers.bulk_tnrs_load(json_file)\n",
    "\n",
    "# ott_ids =set()\n",
    "# for otu in otu_dict:\n",
    "#    ott_ids.add(otu_dict[otu].get(\"^ot:ottId\"))\n",
    "\n",
    "#turn it back into a list\n",
    "ott_ids = list(ott_ids)"
   ]
  },
  {
   "cell_type": "code",
   "execution_count": 15,
   "metadata": {},
   "outputs": [
    {
     "data": {
      "text/plain": [
       "'578817'"
      ]
     },
     "execution_count": 15,
     "metadata": {},
     "output_type": "execute_result"
    }
   ],
   "source": [
    "ott_ids[1]"
   ]
  },
  {
   "cell_type": "code",
   "execution_count": 16,
   "metadata": {},
   "outputs": [
    {
     "ename": "NameError",
     "evalue": "name 'res' is not defined",
     "output_type": "error",
     "traceback": [
      "\u001b[0;31m----------------------------------------------\u001b[0m",
      "\u001b[0;31mNameError\u001b[0m    Traceback (most recent call last)",
      "\u001b[0;32m<ipython-input-16-e69922a575b2>\u001b[0m in \u001b[0;36m<module>\u001b[0;34m()\u001b[0m\n\u001b[1;32m     12\u001b[0m \u001b[0mf\u001b[0m \u001b[0;34m=\u001b[0m \u001b[0mopen\u001b[0m\u001b[0;34m(\u001b[0m\u001b[0mcitations_file\u001b[0m\u001b[0;34m,\u001b[0m\u001b[0;34m\"w+\"\u001b[0m\u001b[0;34m)\u001b[0m\u001b[0;34m\u001b[0m\u001b[0m\n\u001b[1;32m     13\u001b[0m \u001b[0mlinecount\u001b[0m \u001b[0;34m=\u001b[0m \u001b[0;36m0\u001b[0m\u001b[0;34m\u001b[0m\u001b[0m\n\u001b[0;32m---> 14\u001b[0;31m \u001b[0;32mfor\u001b[0m \u001b[0mstudy\u001b[0m \u001b[0;32min\u001b[0m \u001b[0mres\u001b[0m\u001b[0;34m.\u001b[0m\u001b[0mjson\u001b[0m\u001b[0;34m(\u001b[0m\u001b[0;34m)\u001b[0m\u001b[0;34m[\u001b[0m\u001b[0;34m'supporting_studies'\u001b[0m\u001b[0;34m]\u001b[0m\u001b[0;34m:\u001b[0m\u001b[0;34m\u001b[0m\u001b[0m\n\u001b[0m\u001b[1;32m     15\u001b[0m         \u001b[0mstudy\u001b[0m \u001b[0;34m=\u001b[0m \u001b[0mstudy\u001b[0m\u001b[0;34m.\u001b[0m\u001b[0msplit\u001b[0m\u001b[0;34m(\u001b[0m\u001b[0;34m'@'\u001b[0m\u001b[0;34m)\u001b[0m\u001b[0;34m[\u001b[0m\u001b[0;36m0\u001b[0m\u001b[0;34m]\u001b[0m\u001b[0;34m\u001b[0m\u001b[0m\n\u001b[1;32m     16\u001b[0m         \u001b[0mindex_url\u001b[0m \u001b[0;34m=\u001b[0m \u001b[0;34m'https://api.opentreeoflife.org/v3/studies/find_studies'\u001b[0m\u001b[0;34m\u001b[0m\u001b[0m\n",
      "\u001b[0;31mNameError\u001b[0m: name 'res' is not defined"
     ]
    }
   ],
   "source": [
    "_DEBUG = 1\n",
    "def debug(msg):\n",
    "    \"\"\"short debugging command\n",
    "    \"\"\"\n",
    "    if _DEBUG == 1:\n",
    "        print(msg)\n",
    "        \n",
    "import sys\n",
    "from physcraper.helpers import cd, standardize_label, to_string\n",
    "citations_file = \"citations_test.text\"\n",
    "cites = ''\n",
    "f = open(citations_file,\"w+\")\n",
    "linecount = 0\n",
    "for study in res.json()['supporting_studies']:\n",
    "        study = study.split('@')[0]\n",
    "        index_url = 'https://api.opentreeoflife.org/v3/studies/find_studies'\n",
    "        payload = json.dumps({\"property\":\"ot:studyId\",\"value\":study,\"verbose\":\"true\"})\n",
    "        res_cites = requests.post(index_url, data=payload, headers=headers)\n",
    "        new_cite = res_cites.json()['matched_studies']\n",
    "        debug(new_cite)\n",
    "        linecount += 1\n",
    "        f.write(to_string(new_cite[0]['ot:studyPublicationReference']) + '\\n' + new_cite[0]['ot:studyPublication'] + '\\n')\n",
    "f.close()\n"
   ]
  },
  {
   "cell_type": "code",
   "execution_count": 17,
   "metadata": {},
   "outputs": [],
   "source": [
    "_DEBUG = 1\n",
    "def debug(msg):\n",
    "    \"\"\"short debugging command\n",
    "    \"\"\"\n",
    "    if _DEBUG == 1:\n",
    "        print(msg)\n",
    "        \n",
    "import sys\n",
    "from physcraper.helpers import cd, standardize_label, to_string\n",
    "def get_citations_from_json(study_id, citations_file):\n",
    "    assert isinstance(citations_file, str) \n",
    "    f = open(citations_file,\"w+\")\n",
    "    sys.stdout.write(\"Gathering citations ...\")\n",
    "    for study in study_id.json()['supporting_studies']:\n",
    "        study = study.split('@')[0]\n",
    "        index_url = 'https://api.opentreeoflife.org/v3/studies/find_studies'\n",
    "        payload = json.dumps({\"property\":\"ot:studyId\",\"value\":study,\"verbose\":\"true\"})\n",
    "        res_cites = requests.post(index_url, data=payload, headers=headers)\n",
    "        new_cite = res_cites.json()['matched_studies']\n",
    "        debug(new_cite)\n",
    "        f.write(to_string(new_cite[0]['ot:studyPublicationReference']) + '\\n' + new_cite[0]['ot:studyPublication'] + '\\n')\n",
    "    f.close()\n",
    "    sys.stdout.write(\"Citations printed to {}\\n\".format(citations_file))\n",
    "\n",
    "        \n",
    "        "
   ]
  },
  {
   "cell_type": "code",
   "execution_count": 11,
   "metadata": {},
   "outputs": [],
   "source": [
    "from dendropy import Tree, DnaCharacterMatrix, DataSet, datamodel\n",
    "\n",
    "def get_tree_from_synth(ott_ids, label_format=\"name\", citation=\"cites.txt\"):\n",
    "    assert label_format in ['id', 'name', 'name_and_id']\n",
    "    url = 'https://api.opentreeoflife.org/v3/tree_of_life/induced_subtree'\n",
    "    headers = {'content-type':'application/json'}\n",
    "    payload = json.dumps(dict(ott_ids=ott_ids, label_format = label_format))\n",
    "    res = requests.post(url, data=payload, headers=headers)\n",
    "    if res.status_code == 200:\n",
    "        pass\n",
    "    else:\n",
    "        sys.stderr.write(\"error getting synth tree, {}, {}, {}\\n\".format(res.status_code, res.reason, res.json()['message']))\n",
    "        return None\n",
    "    # get_citations_from_json(res, citation) # returns file with citations\n",
    "    tre = Tree.get(data=res.json()['newick'],\n",
    "                   schema=\"newick\",\n",
    "                   suppress_internal_node_taxa=True)\n",
    "    tre.suppress_unifurcations()\n",
    "    return tre"
   ]
  },
  {
   "cell_type": "code",
   "execution_count": 13,
   "metadata": {},
   "outputs": [],
   "source": [
    "json = \"../OpenTree_SSB2020/tutorial/main.json\""
   ]
  },
  {
   "cell_type": "code",
   "execution_count": 14,
   "metadata": {},
   "outputs": [
    {
     "ename": "AttributeError",
     "evalue": "'str' object has no attribute 'dumps'",
     "output_type": "error",
     "traceback": [
      "\u001b[0;31m----------------------------------------------\u001b[0m",
      "\u001b[0;31mAttributeError\u001b[0mTraceback (most recent call last)",
      "\u001b[0;32m<ipython-input-14-7160c063b236>\u001b[0m in \u001b[0;36m<module>\u001b[0;34m()\u001b[0m\n\u001b[0;32m----> 1\u001b[0;31m \u001b[0mtre\u001b[0m \u001b[0;34m=\u001b[0m \u001b[0mget_tree_from_synth\u001b[0m\u001b[0;34m(\u001b[0m\u001b[0mott_ids\u001b[0m\u001b[0;34m,\u001b[0m \u001b[0mcitation\u001b[0m \u001b[0;34m=\u001b[0m \u001b[0;34m\"cites_test1.txt\"\u001b[0m\u001b[0;34m)\u001b[0m\u001b[0;34m\u001b[0m\u001b[0m\n\u001b[0m",
      "\u001b[0;32m<ipython-input-11-0a9dd3d26124>\u001b[0m in \u001b[0;36mget_tree_from_synth\u001b[0;34m(ott_ids, label_format, citation)\u001b[0m\n\u001b[1;32m      5\u001b[0m     \u001b[0murl\u001b[0m \u001b[0;34m=\u001b[0m \u001b[0;34m'https://api.opentreeoflife.org/v3/tree_of_life/induced_subtree'\u001b[0m\u001b[0;34m\u001b[0m\u001b[0m\n\u001b[1;32m      6\u001b[0m     \u001b[0mheaders\u001b[0m \u001b[0;34m=\u001b[0m \u001b[0;34m{\u001b[0m\u001b[0;34m'content-type'\u001b[0m\u001b[0;34m:\u001b[0m\u001b[0;34m'application/json'\u001b[0m\u001b[0;34m}\u001b[0m\u001b[0;34m\u001b[0m\u001b[0m\n\u001b[0;32m----> 7\u001b[0;31m     \u001b[0mpayload\u001b[0m \u001b[0;34m=\u001b[0m \u001b[0mjson\u001b[0m\u001b[0;34m.\u001b[0m\u001b[0mdumps\u001b[0m\u001b[0;34m(\u001b[0m\u001b[0mdict\u001b[0m\u001b[0;34m(\u001b[0m\u001b[0mott_ids\u001b[0m\u001b[0;34m=\u001b[0m\u001b[0mott_ids\u001b[0m\u001b[0;34m,\u001b[0m \u001b[0mlabel_format\u001b[0m \u001b[0;34m=\u001b[0m \u001b[0mlabel_format\u001b[0m\u001b[0;34m)\u001b[0m\u001b[0;34m)\u001b[0m\u001b[0;34m\u001b[0m\u001b[0m\n\u001b[0m\u001b[1;32m      8\u001b[0m     \u001b[0mres\u001b[0m \u001b[0;34m=\u001b[0m \u001b[0mrequests\u001b[0m\u001b[0;34m.\u001b[0m\u001b[0mpost\u001b[0m\u001b[0;34m(\u001b[0m\u001b[0murl\u001b[0m\u001b[0;34m,\u001b[0m \u001b[0mdata\u001b[0m\u001b[0;34m=\u001b[0m\u001b[0mpayload\u001b[0m\u001b[0;34m,\u001b[0m \u001b[0mheaders\u001b[0m\u001b[0;34m=\u001b[0m\u001b[0mheaders\u001b[0m\u001b[0;34m)\u001b[0m\u001b[0;34m\u001b[0m\u001b[0m\n\u001b[1;32m      9\u001b[0m     \u001b[0;32mif\u001b[0m \u001b[0mres\u001b[0m\u001b[0;34m.\u001b[0m\u001b[0mstatus_code\u001b[0m \u001b[0;34m==\u001b[0m \u001b[0;36m200\u001b[0m\u001b[0;34m:\u001b[0m\u001b[0;34m\u001b[0m\u001b[0m\n",
      "\u001b[0;31mAttributeError\u001b[0m: 'str' object has no attribute 'dumps'"
     ]
    }
   ],
   "source": [
    "tre = get_tree_from_synth(ott_ids, citation = \"cites_test1.txt\")"
   ]
  },
  {
   "cell_type": "code",
   "execution_count": null,
   "metadata": {},
   "outputs": [],
   "source": [
    "# to plot the output, I'm using R for now\n",
    "%load_ext rpy2.ipython"
   ]
  },
  {
   "cell_type": "code",
   "execution_count": null,
   "metadata": {},
   "outputs": [],
   "source": [
    "%%R -i df -w 5 -h 5 --units in -r 200\n",
    "tree <- ape::read.tree(\"subtree.tre\")\n",
    "ape::plot.phylo(tree)"
   ]
  }
 ],
 "metadata": {
  "kernelspec": {
   "display_name": "Python 2",
   "language": "python",
   "name": "python2"
  },
  "language_info": {
   "codemirror_mode": {
    "name": "ipython",
    "version": 2
   },
   "file_extension": ".py",
   "mimetype": "text/x-python",
   "name": "python",
   "nbconvert_exporter": "python",
   "pygments_lexer": "ipython2",
   "version": "2.7.16"
  }
 },
 "nbformat": 4,
 "nbformat_minor": 2
}
