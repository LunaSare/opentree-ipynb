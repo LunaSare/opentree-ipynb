{
 "cells": [
  {
   "cell_type": "code",
   "execution_count": null,
   "metadata": {},
   "outputs": [],
   "source": [
    "# November 8 2019\n",
    "# development of function get_subtree\n",
    "# Get an opentree synthetic tree for a rank X, from a clade Y,\n",
    "# distributed in geographic region Z.\n",
    "\n",
    "# arguments\n",
    "# ott_ids: Numeric. If given only one, it will get a subtree for the corresponding node\n",
    "         # If given 2 or more, it will give back an induced subtree\n",
    "# rank: Character string. Indicates the taxonomic rank to search for.\n",
    "# clade: Character string or number (?). Indicates a phylogenetic context to search for.\n",
    "# range: Character string. Indicates the geogaphic region to search for.\n",
    "# ott_version: Character string\n"
   ]
  },
  {
   "cell_type": "code",
   "execution_count": null,
   "metadata": {},
   "outputs": [],
   "source": [
    "# define arguments\n",
    "ott_ids = 494367\n",
    "rank = genus\n",
    "ott_version = \"3.1\""
   ]
  },
  {
   "cell_type": "code",
   "execution_count": 1,
   "metadata": {},
   "outputs": [
    {
     "name": "stdout",
     "output_type": "stream",
     "text": [
      "--2019-11-08 17:05:13--  http://files.opentreeoflife.org/ott/ott3.1/ott3.1.tgz\n",
      "Resolving files.opentreeoflife.org... 129.237.33.155\n",
      "Connecting to files.opentreeoflife.org|129.237.33.155|:80... connected.\n",
      "HTTP request sent, awaiting response... 301 Moved Permanently\n",
      "Location: https://files.opentreeoflife.org/ott/ott3.1/ott3.1.tgz [following]\n",
      "--2019-11-08 17:05:13--  https://files.opentreeoflife.org/ott/ott3.1/ott3.1.tgz\n",
      "Connecting to files.opentreeoflife.org|129.237.33.155|:443... connected.\n",
      "HTTP request sent, awaiting response... 200 OK\n",
      "Length: 106275258 (101M) [application/x-gzip]\n",
      "Saving to: ‘ott3.1.tgz’\n",
      "\n",
      "ott3.1.tgz          100%[===================>] 101.35M  20.5MB/s    in 5.4s    \n",
      "\n",
      "2019-11-08 17:05:19 (18.7 MB/s) - ‘ott3.1.tgz’ saved [106275258/106275258]\n",
      "\n"
     ]
    }
   ],
   "source": [
    "# download the ott file\n",
    "! wget 'http://files.opentreeoflife.org/ott/ott3.1/ott3.1.tgz'"
   ]
  },
  {
   "cell_type": "code",
   "execution_count": 2,
   "metadata": {},
   "outputs": [],
   "source": [
    "# unzip it\n",
    "import gzip\n",
    "import shutil\n",
    "with gzip.open('ott3.1.tgz', 'rb') as fin:\n",
    "    with open('ott3.1.tsv', 'wb') as fout:\n",
    "        shutil.copyfileobj(fin, fout)"
   ]
  },
  {
   "cell_type": "code",
   "execution_count": 3,
   "metadata": {},
   "outputs": [],
   "source": [
    "# read the ott taxonomy file\n",
    "# match \n",
    "# clean it\n",
    "taxonomy_tsv = 'ott3.1red.tsv'"
   ]
  },
  {
   "cell_type": "code",
   "execution_count": null,
   "metadata": {},
   "outputs": [],
   "source": [
    "fi = open(taxonomy_tsv).readlines()\n",
    "ott_ids = []\n",
    "for lin in fi:\n",
    "    lii = lin.split(\"\\t\")\n",
    "    ott_ids.append(lii[0])"
   ]
  },
  {
   "cell_type": "code",
   "execution_count": null,
   "metadata": {},
   "outputs": [],
   "source": []
  },
  {
   "cell_type": "code",
   "execution_count": null,
   "metadata": {},
   "outputs": [],
   "source": [
    "%load_ext rpy2.ipython"
   ]
  }
 ],
 "metadata": {
  "kernelspec": {
   "display_name": "Python 2",
   "language": "python",
   "name": "python2"
  },
  "language_info": {
   "codemirror_mode": {
    "name": "ipython",
    "version": 2
   },
   "file_extension": ".py",
   "mimetype": "text/x-python",
   "name": "python",
   "nbconvert_exporter": "python",
   "pygments_lexer": "ipython2",
   "version": "2.7.16"
  }
 },
 "nbformat": 4,
 "nbformat_minor": 2
}
