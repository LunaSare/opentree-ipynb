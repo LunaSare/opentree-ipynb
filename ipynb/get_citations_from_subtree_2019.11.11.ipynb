{
 "cells": [
  {
   "cell_type": "code",
   "execution_count": 14,
   "metadata": {},
   "outputs": [
    {
     "name": "stderr",
     "output_type": "stream",
     "text": [
      "Warning message in collapse_singles(tr, show_progress):\n",
      "“Dropping singleton nodes with labels: mrcaott246ott5481, mrcaott246ott5021, mrcaott246ott7145, mrcaott246ott5272, mrcaott246ott928360, mrcaott246ott1858, mrcaott246ott2907, mrcaott246ott3600042, mrcaott246ott47588, mrcaott246ott7113, Passeriformes ott1041547, mrcaott246ott3212, mrcaott246ott428578, mrcaott246ott44866, mrcaott246ott5929, mrcaott246ott32658, mrcaott246ott4820, mrcaott246ott22325, mrcaott246ott176461, mrcaott246ott10351, mrcaott246ott1488, mrcaott246ott3364, mrcaott246ott5934, mrcaott246ott1566, mrcaott1566ott3598440, mrcaott1566ott496009, Cinclidae ott496027, mrcaott4765ott6520193, Galliformes ott837585, mrcaott4765ott6520194, mrcaott4765ott109888, mrcaott4765ott75785, mrcaott4765ott104461, mrcaott4765ott151684, mrcaott4765ott54193, mrcaott4765ott49319, mrcaott4765ott49310, mrcaott4765ott415487, mrcaott4765ott51354, mrcaott4765ott53700, mrcaott53700ott572162, mrcaott53700ott466627, Anseriformes ott241841, mrcaott30843ott714464, Anatidae ott765193, mrcaott30843ott75874, mrcaott30843ott962771, mrcaott30843ott145504, mrcaott145504ott316879, mrcaott84218ott1007318, Struthionidae ott857849”\n"
     ]
    }
   ],
   "source": [
    "# Challenge: Add a function to rotl that gets citations from a subtree\n",
    "\n",
    "# First, get a subtree with rotl\n",
    "\n",
    "res <- rotl::tol_induced_subtree(ott_ids = c(292466, 267845, 316878, 102710))\n",
    "\n"
   ]
  },
  {
   "cell_type": "code",
   "execution_count": 15,
   "metadata": {},
   "outputs": [
    {
     "name": "stdout",
     "output_type": "stream",
     "text": [
      "List of 4\n",
      " $ edge      : int [1:6, 1:2] 5 6 6 7 7 5 6 1 7 2 ...\n",
      " $ tip.label : chr [1:4] \"Cinclus_ott267845\" \"Perdix_ott102710\" \"Clangula_ott316878\" \"Struthio_ott292466\"\n",
      " $ Nnode     : num 3\n",
      " $ node.label: chr [1:3] \"Aves ott81461\" \"mrcaott246ott4765\" \"mrcaott4765ott30843\"\n",
      " - attr(*, \"class\")= chr \"phylo\"\n"
     ]
    }
   ],
   "source": [
    "str(res) # this checks the structure of the output file. It is indeed a tree."
   ]
  },
  {
   "cell_type": "code",
   "execution_count": 16,
   "metadata": {},
   "outputs": [
    {
     "data": {
      "text/html": [
       "<ol class=list-inline>\n",
       "\t<li>'edge'</li>\n",
       "\t<li>'Nnode'</li>\n",
       "\t<li>'node.label'</li>\n",
       "\t<li>'tip.label'</li>\n",
       "</ol>\n"
      ],
      "text/latex": [
       "\\begin{enumerate*}\n",
       "\\item 'edge'\n",
       "\\item 'Nnode'\n",
       "\\item 'node.label'\n",
       "\\item 'tip.label'\n",
       "\\end{enumerate*}\n"
      ],
      "text/markdown": [
       "1. 'edge'\n",
       "2. 'Nnode'\n",
       "3. 'node.label'\n",
       "4. 'tip.label'\n",
       "\n",
       "\n"
      ],
      "text/plain": [
       "[1] \"edge\"       \"Nnode\"      \"node.label\" \"tip.label\" "
      ]
     },
     "metadata": {},
     "output_type": "display_data"
    }
   ],
   "source": [
    "ls(res) # with this we can see the contents of the output of tol_induced_subtree \n",
    "# it does not return any information on supporting studies for that subtree"
   ]
  },
  {
   "cell_type": "code",
   "execution_count": 17,
   "metadata": {},
   "outputs": [
    {
     "data": {
      "text/html": [
       "<pre class=language-r><code>function (ott_ids = NULL, node_ids = NULL, label_format = NULL, \n",
       "<span style=white-space:pre-wrap>    file, ...) </span>\n",
       "{\n",
       "<span style=white-space:pre-wrap>    res &lt;- .tol_induced_subtree(ott_ids = ott_ids, node_ids = node_ids, </span>\n",
       "<span style=white-space:pre-wrap>        label_format = label_format, ...)</span>\n",
       "<span style=white-space:pre-wrap>    if (!missing(file)) {</span>\n",
       "<span style=white-space:pre-wrap>        unlink(file)</span>\n",
       "<span style=white-space:pre-wrap>        cat(res$newick, file = file)</span>\n",
       "<span style=white-space:pre-wrap>        return(file.exists(file))</span>\n",
       "<span style=white-space:pre-wrap>    }</span>\n",
       "<span style=white-space:pre-wrap>    else {</span>\n",
       "<span style=white-space:pre-wrap>        phy &lt;- phylo_from_otl(res)</span>\n",
       "<span style=white-space:pre-wrap>        return(phy)</span>\n",
       "<span style=white-space:pre-wrap>    }</span>\n",
       "}</code></pre>"
      ],
      "text/latex": [
       "\\begin{minted}{r}\n",
       "function (ott\\_ids = NULL, node\\_ids = NULL, label\\_format = NULL, \n",
       "    file, ...) \n",
       "\\{\n",
       "    res <- .tol\\_induced\\_subtree(ott\\_ids = ott\\_ids, node\\_ids = node\\_ids, \n",
       "        label\\_format = label\\_format, ...)\n",
       "    if (!missing(file)) \\{\n",
       "        unlink(file)\n",
       "        cat(res\\$newick, file = file)\n",
       "        return(file.exists(file))\n",
       "    \\}\n",
       "    else \\{\n",
       "        phy <- phylo\\_from\\_otl(res)\n",
       "        return(phy)\n",
       "    \\}\n",
       "\\}\n",
       "\\end{minted}"
      ],
      "text/markdown": [
       "```r\n",
       "function (ott_ids = NULL, node_ids = NULL, label_format = NULL, \n",
       "    file, ...) \n",
       "{\n",
       "    res <- .tol_induced_subtree(ott_ids = ott_ids, node_ids = node_ids, \n",
       "        label_format = label_format, ...)\n",
       "    if (!missing(file)) {\n",
       "        unlink(file)\n",
       "        cat(res$newick, file = file)\n",
       "        return(file.exists(file))\n",
       "    }\n",
       "    else {\n",
       "        phy <- phylo_from_otl(res)\n",
       "        return(phy)\n",
       "    }\n",
       "}\n",
       "```"
      ],
      "text/plain": [
       "function (ott_ids = NULL, node_ids = NULL, label_format = NULL, \n",
       "    file, ...) \n",
       "{\n",
       "    res <- .tol_induced_subtree(ott_ids = ott_ids, node_ids = node_ids, \n",
       "        label_format = label_format, ...)\n",
       "    if (!missing(file)) {\n",
       "        unlink(file)\n",
       "        cat(res$newick, file = file)\n",
       "        return(file.exists(file))\n",
       "    }\n",
       "    else {\n",
       "        phy <- phylo_from_otl(res)\n",
       "        return(phy)\n",
       "    }\n",
       "}\n",
       "<bytecode: 0x7fcf4ec59a58>\n",
       "<environment: namespace:rotl>"
      ]
     },
     "metadata": {},
     "output_type": "display_data"
    }
   ],
   "source": [
    "rotl::tol_induced_subtree # look at how the function is coded\n",
    "# try to identify where it is dropping the supporting studies information"
   ]
  },
  {
   "cell_type": "code",
   "execution_count": 20,
   "metadata": {},
   "outputs": [
    {
     "data": {
      "text/html": [
       "<pre class=language-r><code>function (ott_ids = NULL, node_ids = NULL, label_format = NULL, \n",
       "<span style=white-space:pre-wrap>    ...) </span>\n",
       "{\n",
       "<span style=white-space:pre-wrap>    if (is.null(ott_ids) &amp;&amp; is.null(node_ids)) {</span>\n",
       "<span style=white-space:pre-wrap>        stop(\"Must provide \", sQuote(\"ott_ids\"), \" or \", sQuote(\"node_ids\"), </span>\n",
       "<span style=white-space:pre-wrap>            \" (or both).\")</span>\n",
       "<span style=white-space:pre-wrap>    }</span>\n",
       "<span style=white-space:pre-wrap>    q &lt;- list()</span>\n",
       "<span style=white-space:pre-wrap>    if (!is.null(label_format)) {</span>\n",
       "<span style=white-space:pre-wrap>        if (!check_label_format(label_format)) {</span>\n",
       "<span style=white-space:pre-wrap>            stop(sQuote(\"label_format\"), \" must be one of: \", </span>\n",
       "<span style=white-space:pre-wrap>                sQuote(\"name\"), \", \", sQuote(\"id\"), \", or \", </span>\n",
       "<span style=white-space:pre-wrap>                sQuote(\"name_and_id\"))</span>\n",
       "<span style=white-space:pre-wrap>        }</span>\n",
       "<span style=white-space:pre-wrap>        q$label_format &lt;- jsonlite::unbox(label_format)</span>\n",
       "<span style=white-space:pre-wrap>    }</span>\n",
       "<span style=white-space:pre-wrap>    if (!is.null(ott_ids)) {</span>\n",
       "<span style=white-space:pre-wrap>        ott_ids &lt;- check_ott_ids(ott_ids)</span>\n",
       "<span style=white-space:pre-wrap>        q$ott_ids &lt;- ott_ids</span>\n",
       "<span style=white-space:pre-wrap>    }</span>\n",
       "<span style=white-space:pre-wrap>    if (!is.null(node_ids)) {</span>\n",
       "<span style=white-space:pre-wrap>        check_node_ids(node_ids)</span>\n",
       "<span style=white-space:pre-wrap>        q$node_ids &lt;- node_ids</span>\n",
       "<span style=white-space:pre-wrap>    }</span>\n",
       "<span style=white-space:pre-wrap>    if ((length(ott_ids) + length(node_ids)) &lt; 2) {</span>\n",
       "<span style=white-space:pre-wrap>        stop(\"At least two valid \", sQuote(\"ott_ids\"), \" or \", </span>\n",
       "<span style=white-space:pre-wrap>            sQuote(\"node_ids\"), \" must be provided.\")</span>\n",
       "<span style=white-space:pre-wrap>    }</span>\n",
       "<span style=white-space:pre-wrap>    res &lt;- otl_POST(\"tree_of_life/induced_subtree\", body = q, </span>\n",
       "<span style=white-space:pre-wrap>        ...)</span>\n",
       "<span style=white-space:pre-wrap>    res</span>\n",
       "}</code></pre>"
      ],
      "text/latex": [
       "\\begin{minted}{r}\n",
       "function (ott\\_ids = NULL, node\\_ids = NULL, label\\_format = NULL, \n",
       "    ...) \n",
       "\\{\n",
       "    if (is.null(ott\\_ids) \\&\\& is.null(node\\_ids)) \\{\n",
       "        stop(\"Must provide \", sQuote(\"ott\\_ids\"), \" or \", sQuote(\"node\\_ids\"), \n",
       "            \" (or both).\")\n",
       "    \\}\n",
       "    q <- list()\n",
       "    if (!is.null(label\\_format)) \\{\n",
       "        if (!check\\_label\\_format(label\\_format)) \\{\n",
       "            stop(sQuote(\"label\\_format\"), \" must be one of: \", \n",
       "                sQuote(\"name\"), \", \", sQuote(\"id\"), \", or \", \n",
       "                sQuote(\"name\\_and\\_id\"))\n",
       "        \\}\n",
       "        q\\$label\\_format <- jsonlite::unbox(label\\_format)\n",
       "    \\}\n",
       "    if (!is.null(ott\\_ids)) \\{\n",
       "        ott\\_ids <- check\\_ott\\_ids(ott\\_ids)\n",
       "        q\\$ott\\_ids <- ott\\_ids\n",
       "    \\}\n",
       "    if (!is.null(node\\_ids)) \\{\n",
       "        check\\_node\\_ids(node\\_ids)\n",
       "        q\\$node\\_ids <- node\\_ids\n",
       "    \\}\n",
       "    if ((length(ott\\_ids) + length(node\\_ids)) < 2) \\{\n",
       "        stop(\"At least two valid \", sQuote(\"ott\\_ids\"), \" or \", \n",
       "            sQuote(\"node\\_ids\"), \" must be provided.\")\n",
       "    \\}\n",
       "    res <- otl\\_POST(\"tree\\_of\\_life/induced\\_subtree\", body = q, \n",
       "        ...)\n",
       "    res\n",
       "\\}\n",
       "\\end{minted}"
      ],
      "text/markdown": [
       "```r\n",
       "function (ott_ids = NULL, node_ids = NULL, label_format = NULL, \n",
       "    ...) \n",
       "{\n",
       "    if (is.null(ott_ids) && is.null(node_ids)) {\n",
       "        stop(\"Must provide \", sQuote(\"ott_ids\"), \" or \", sQuote(\"node_ids\"), \n",
       "            \" (or both).\")\n",
       "    }\n",
       "    q <- list()\n",
       "    if (!is.null(label_format)) {\n",
       "        if (!check_label_format(label_format)) {\n",
       "            stop(sQuote(\"label_format\"), \" must be one of: \", \n",
       "                sQuote(\"name\"), \", \", sQuote(\"id\"), \", or \", \n",
       "                sQuote(\"name_and_id\"))\n",
       "        }\n",
       "        q$label_format <- jsonlite::unbox(label_format)\n",
       "    }\n",
       "    if (!is.null(ott_ids)) {\n",
       "        ott_ids <- check_ott_ids(ott_ids)\n",
       "        q$ott_ids <- ott_ids\n",
       "    }\n",
       "    if (!is.null(node_ids)) {\n",
       "        check_node_ids(node_ids)\n",
       "        q$node_ids <- node_ids\n",
       "    }\n",
       "    if ((length(ott_ids) + length(node_ids)) < 2) {\n",
       "        stop(\"At least two valid \", sQuote(\"ott_ids\"), \" or \", \n",
       "            sQuote(\"node_ids\"), \" must be provided.\")\n",
       "    }\n",
       "    res <- otl_POST(\"tree_of_life/induced_subtree\", body = q, \n",
       "        ...)\n",
       "    res\n",
       "}\n",
       "```"
      ],
      "text/plain": [
       "function (ott_ids = NULL, node_ids = NULL, label_format = NULL, \n",
       "    ...) \n",
       "{\n",
       "    if (is.null(ott_ids) && is.null(node_ids)) {\n",
       "        stop(\"Must provide \", sQuote(\"ott_ids\"), \" or \", sQuote(\"node_ids\"), \n",
       "            \" (or both).\")\n",
       "    }\n",
       "    q <- list()\n",
       "    if (!is.null(label_format)) {\n",
       "        if (!check_label_format(label_format)) {\n",
       "            stop(sQuote(\"label_format\"), \" must be one of: \", \n",
       "                sQuote(\"name\"), \", \", sQuote(\"id\"), \", or \", \n",
       "                sQuote(\"name_and_id\"))\n",
       "        }\n",
       "        q$label_format <- jsonlite::unbox(label_format)\n",
       "    }\n",
       "    if (!is.null(ott_ids)) {\n",
       "        ott_ids <- check_ott_ids(ott_ids)\n",
       "        q$ott_ids <- ott_ids\n",
       "    }\n",
       "    if (!is.null(node_ids)) {\n",
       "        check_node_ids(node_ids)\n",
       "        q$node_ids <- node_ids\n",
       "    }\n",
       "    if ((length(ott_ids) + length(node_ids)) < 2) {\n",
       "        stop(\"At least two valid \", sQuote(\"ott_ids\"), \" or \", \n",
       "            sQuote(\"node_ids\"), \" must be provided.\")\n",
       "    }\n",
       "    res <- otl_POST(\"tree_of_life/induced_subtree\", body = q, \n",
       "        ...)\n",
       "    res\n",
       "}\n",
       "<bytecode: 0x7fcf4ec5ecb8>\n",
       "<environment: namespace:rotl>"
      ]
     },
     "metadata": {},
     "output_type": "display_data"
    }
   ],
   "source": [
    "rotl:::.tol_induced_subtree # look at the code of this inner function\n",
    "# this does not drop the citations"
   ]
  },
  {
   "cell_type": "code",
   "execution_count": 23,
   "metadata": {},
   "outputs": [
    {
     "data": {
      "text/html": [
       "<pre class=language-r><code>function (path, body, url = otl_url(...), otl_v = otl_version(...), \n",
       "<span style=white-space:pre-wrap>    ...) </span>\n",
       "{\n",
       "<span style=white-space:pre-wrap>    stopifnot(is.list(body))</span>\n",
       "<span style=white-space:pre-wrap>    body_json &lt;- ifelse(length(body), jsonlite::toJSON(body), </span>\n",
       "<span style=white-space:pre-wrap>        \"\")</span>\n",
       "<span style=white-space:pre-wrap>    req &lt;- httr::POST(url, path = paste(otl_v, path, sep = \"/\"), </span>\n",
       "<span style=white-space:pre-wrap>        body = body_json, ...)</span>\n",
       "<span style=white-space:pre-wrap>    otl_check(req)</span>\n",
       "}</code></pre>"
      ],
      "text/latex": [
       "\\begin{minted}{r}\n",
       "function (path, body, url = otl\\_url(...), otl\\_v = otl\\_version(...), \n",
       "    ...) \n",
       "\\{\n",
       "    stopifnot(is.list(body))\n",
       "    body\\_json <- ifelse(length(body), jsonlite::toJSON(body), \n",
       "        \"\")\n",
       "    req <- httr::POST(url, path = paste(otl\\_v, path, sep = \"/\"), \n",
       "        body = body\\_json, ...)\n",
       "    otl\\_check(req)\n",
       "\\}\n",
       "\\end{minted}"
      ],
      "text/markdown": [
       "```r\n",
       "function (path, body, url = otl_url(...), otl_v = otl_version(...), \n",
       "    ...) \n",
       "{\n",
       "    stopifnot(is.list(body))\n",
       "    body_json <- ifelse(length(body), jsonlite::toJSON(body), \n",
       "        \"\")\n",
       "    req <- httr::POST(url, path = paste(otl_v, path, sep = \"/\"), \n",
       "        body = body_json, ...)\n",
       "    otl_check(req)\n",
       "}\n",
       "```"
      ],
      "text/plain": [
       "function (path, body, url = otl_url(...), otl_v = otl_version(...), \n",
       "    ...) \n",
       "{\n",
       "    stopifnot(is.list(body))\n",
       "    body_json <- ifelse(length(body), jsonlite::toJSON(body), \n",
       "        \"\")\n",
       "    req <- httr::POST(url, path = paste(otl_v, path, sep = \"/\"), \n",
       "        body = body_json, ...)\n",
       "    otl_check(req)\n",
       "}\n",
       "<bytecode: 0x7fcf4dfe48f0>\n",
       "<environment: namespace:rotl>"
      ]
     },
     "metadata": {},
     "output_type": "display_data"
    }
   ],
   "source": [
    "rotl:::otl_POST"
   ]
  },
  {
   "cell_type": "code",
   "execution_count": 22,
   "metadata": {},
   "outputs": [
    {
     "data": {
      "text/html": [
       "<pre class=language-r><code>function (res, dedup = FALSE) \n",
       "{\n",
       "<span style=white-space:pre-wrap>    if (is.list(res)) {</span>\n",
       "<span style=white-space:pre-wrap>        if (!is.null(res$newick)) {</span>\n",
       "<span style=white-space:pre-wrap>            tree &lt;- res$newick</span>\n",
       "<span style=white-space:pre-wrap>        }</span>\n",
       "<span style=white-space:pre-wrap>        else if (!is.null(res$subtree)) {</span>\n",
       "<span style=white-space:pre-wrap>            tree &lt;- res$subtree</span>\n",
       "<span style=white-space:pre-wrap>        }</span>\n",
       "<span style=white-space:pre-wrap>        else {</span>\n",
       "<span style=white-space:pre-wrap>            stop(\"Cannot find tree\")</span>\n",
       "<span style=white-space:pre-wrap>        }</span>\n",
       "<span style=white-space:pre-wrap>    }</span>\n",
       "<span style=white-space:pre-wrap>    else if (is.character(res)) {</span>\n",
       "<span style=white-space:pre-wrap>        tree &lt;- res</span>\n",
       "<span style=white-space:pre-wrap>    }</span>\n",
       "<span style=white-space:pre-wrap>    else stop(\"I don't know how to deal with this format.\")</span>\n",
       "<span style=white-space:pre-wrap>    if (grepl(\"\\\\(\", tree)) {</span>\n",
       "<span style=white-space:pre-wrap>        fnm &lt;- tempfile()</span>\n",
       "<span style=white-space:pre-wrap>        cat(tree, file = fnm)</span>\n",
       "<span style=white-space:pre-wrap>        if (!dedup) {</span>\n",
       "<span style=white-space:pre-wrap>            phy &lt;- rncl::read_newick_phylo(fnm)</span>\n",
       "<span style=white-space:pre-wrap>        }</span>\n",
       "<span style=white-space:pre-wrap>        else {</span>\n",
       "<span style=white-space:pre-wrap>            dedup_tr &lt;- deduplicate_labels(fnm)</span>\n",
       "<span style=white-space:pre-wrap>            phy &lt;- rncl::read_newick_phylo(dedup_tr)</span>\n",
       "<span style=white-space:pre-wrap>            unlink(dedup_tr)</span>\n",
       "<span style=white-space:pre-wrap>        }</span>\n",
       "<span style=white-space:pre-wrap>        unlink(fnm)</span>\n",
       "<span style=white-space:pre-wrap>    }</span>\n",
       "<span style=white-space:pre-wrap>    else {</span>\n",
       "<span style=white-space:pre-wrap>        phy &lt;- tree_to_labels(tree)$tip_label</span>\n",
       "<span style=white-space:pre-wrap>    }</span>\n",
       "<span style=white-space:pre-wrap>    return(phy)</span>\n",
       "}</code></pre>"
      ],
      "text/latex": [
       "\\begin{minted}{r}\n",
       "function (res, dedup = FALSE) \n",
       "\\{\n",
       "    if (is.list(res)) \\{\n",
       "        if (!is.null(res\\$newick)) \\{\n",
       "            tree <- res\\$newick\n",
       "        \\}\n",
       "        else if (!is.null(res\\$subtree)) \\{\n",
       "            tree <- res\\$subtree\n",
       "        \\}\n",
       "        else \\{\n",
       "            stop(\"Cannot find tree\")\n",
       "        \\}\n",
       "    \\}\n",
       "    else if (is.character(res)) \\{\n",
       "        tree <- res\n",
       "    \\}\n",
       "    else stop(\"I don't know how to deal with this format.\")\n",
       "    if (grepl(\"\\textbackslash{}\\textbackslash{}(\", tree)) \\{\n",
       "        fnm <- tempfile()\n",
       "        cat(tree, file = fnm)\n",
       "        if (!dedup) \\{\n",
       "            phy <- rncl::read\\_newick\\_phylo(fnm)\n",
       "        \\}\n",
       "        else \\{\n",
       "            dedup\\_tr <- deduplicate\\_labels(fnm)\n",
       "            phy <- rncl::read\\_newick\\_phylo(dedup\\_tr)\n",
       "            unlink(dedup\\_tr)\n",
       "        \\}\n",
       "        unlink(fnm)\n",
       "    \\}\n",
       "    else \\{\n",
       "        phy <- tree\\_to\\_labels(tree)\\$tip\\_label\n",
       "    \\}\n",
       "    return(phy)\n",
       "\\}\n",
       "\\end{minted}"
      ],
      "text/markdown": [
       "```r\n",
       "function (res, dedup = FALSE) \n",
       "{\n",
       "    if (is.list(res)) {\n",
       "        if (!is.null(res$newick)) {\n",
       "            tree <- res$newick\n",
       "        }\n",
       "        else if (!is.null(res$subtree)) {\n",
       "            tree <- res$subtree\n",
       "        }\n",
       "        else {\n",
       "            stop(\"Cannot find tree\")\n",
       "        }\n",
       "    }\n",
       "    else if (is.character(res)) {\n",
       "        tree <- res\n",
       "    }\n",
       "    else stop(\"I don't know how to deal with this format.\")\n",
       "    if (grepl(\"\\\\(\", tree)) {\n",
       "        fnm <- tempfile()\n",
       "        cat(tree, file = fnm)\n",
       "        if (!dedup) {\n",
       "            phy <- rncl::read_newick_phylo(fnm)\n",
       "        }\n",
       "        else {\n",
       "            dedup_tr <- deduplicate_labels(fnm)\n",
       "            phy <- rncl::read_newick_phylo(dedup_tr)\n",
       "            unlink(dedup_tr)\n",
       "        }\n",
       "        unlink(fnm)\n",
       "    }\n",
       "    else {\n",
       "        phy <- tree_to_labels(tree)$tip_label\n",
       "    }\n",
       "    return(phy)\n",
       "}\n",
       "```"
      ],
      "text/plain": [
       "function (res, dedup = FALSE) \n",
       "{\n",
       "    if (is.list(res)) {\n",
       "        if (!is.null(res$newick)) {\n",
       "            tree <- res$newick\n",
       "        }\n",
       "        else if (!is.null(res$subtree)) {\n",
       "            tree <- res$subtree\n",
       "        }\n",
       "        else {\n",
       "            stop(\"Cannot find tree\")\n",
       "        }\n",
       "    }\n",
       "    else if (is.character(res)) {\n",
       "        tree <- res\n",
       "    }\n",
       "    else stop(\"I don't know how to deal with this format.\")\n",
       "    if (grepl(\"\\\\(\", tree)) {\n",
       "        fnm <- tempfile()\n",
       "        cat(tree, file = fnm)\n",
       "        if (!dedup) {\n",
       "            phy <- rncl::read_newick_phylo(fnm)\n",
       "        }\n",
       "        else {\n",
       "            dedup_tr <- deduplicate_labels(fnm)\n",
       "            phy <- rncl::read_newick_phylo(dedup_tr)\n",
       "            unlink(dedup_tr)\n",
       "        }\n",
       "        unlink(fnm)\n",
       "    }\n",
       "    else {\n",
       "        phy <- tree_to_labels(tree)$tip_label\n",
       "    }\n",
       "    return(phy)\n",
       "}\n",
       "<bytecode: 0x7fcf4bf755f8>\n",
       "<environment: namespace:rotl>"
      ]
     },
     "metadata": {},
     "output_type": "display_data"
    }
   ],
   "source": [
    "rotl:::phylo_from_otl # this is where citations are dropped\n",
    "# the function only gets the tree"
   ]
  },
  {
   "cell_type": "code",
   "execution_count": 39,
   "metadata": {},
   "outputs": [
    {
     "name": "stderr",
     "output_type": "stream",
     "text": [
      "Rendering development documentation for 'get_publication'\n",
      "\n"
     ]
    },
    {
     "data": {
      "text/html": [
       "<pre class=language-r><code>function (study_id, ...) \n",
       "{\n",
       "<span style=white-space:pre-wrap>    res &lt;- .get_study_meta(study_id = study_id, ...)</span>\n",
       "<span style=white-space:pre-wrap>    class(res) &lt;- \"study_meta\"</span>\n",
       "<span style=white-space:pre-wrap>    attr(res, \"study_id\") &lt;- study_id</span>\n",
       "<span style=white-space:pre-wrap>    res</span>\n",
       "}</code></pre>"
      ],
      "text/latex": [
       "\\begin{minted}{r}\n",
       "function (study\\_id, ...) \n",
       "\\{\n",
       "    res <- .get\\_study\\_meta(study\\_id = study\\_id, ...)\n",
       "    class(res) <- \"study\\_meta\"\n",
       "    attr(res, \"study\\_id\") <- study\\_id\n",
       "    res\n",
       "\\}\n",
       "\\end{minted}"
      ],
      "text/markdown": [
       "```r\n",
       "function (study_id, ...) \n",
       "{\n",
       "    res <- .get_study_meta(study_id = study_id, ...)\n",
       "    class(res) <- \"study_meta\"\n",
       "    attr(res, \"study_id\") <- study_id\n",
       "    res\n",
       "}\n",
       "```"
      ],
      "text/plain": [
       "function(study_id, ...) {\n",
       "  res <- .get_study_meta(study_id = study_id, ...)\n",
       "  class(res) <- \"study_meta\"\n",
       "  attr(res, \"study_id\") <- study_id\n",
       "  res\n",
       "}\n",
       "<environment: namespace:rotl>"
      ]
     },
     "metadata": {},
     "output_type": "display_data"
    }
   ],
   "source": [
    "?rotl::get_publication\n",
    "rotl::get_study_meta"
   ]
  },
  {
   "cell_type": "code",
   "execution_count": 24,
   "metadata": {},
   "outputs": [],
   "source": [
    "# create function studies_from_otl\n",
    "\n",
    "studies_from_otl <- function (res) \n",
    "{\n",
    "    if (is.list(res)) {\n",
    "        if (!is.null(res$supporting_studies)) {\n",
    "            studies <- res$supporting_studies\n",
    "        }\n",
    "        else {\n",
    "            stop(\"Cannot find supporting studies\")\n",
    "        }\n",
    "    }\n",
    "#     else if (is.character(res)) {\n",
    "#         tree <- res\n",
    "#     }\n",
    "#     else stop(\"I don't know how to deal with this format.\")\n",
    "#     if (grepl(\"\\\\(\", tree)) {\n",
    "#         fnm <- tempfile()\n",
    "#         cat(tree, file = fnm)\n",
    "#         if (!dedup) {\n",
    "#             phy <- rncl::read_newick_phylo(fnm)\n",
    "#         }\n",
    "#         else {\n",
    "#             dedup_tr <- deduplicate_labels(fnm)\n",
    "#             phy <- rncl::read_newick_phylo(dedup_tr)\n",
    "#             unlink(dedup_tr)\n",
    "#         }\n",
    "#         unlink(fnm)\n",
    "#     }\n",
    "#     else {\n",
    "#         phy <- tree_to_labels(tree)$tip_label\n",
    "#     }\n",
    "    return(studies)\n",
    "}\n"
   ]
  },
  {
   "cell_type": "code",
   "execution_count": 61,
   "metadata": {},
   "outputs": [],
   "source": [
    "# res is an output from .tol_induced_subtree or .tol_subtree\n",
    "# returns a list with tree and study ids supporting a subtree\n",
    "studies_from_otl <- function(res){\n",
    "  if (is.list(res)) {\n",
    "    if (!is.null(res$supporting_studies)) {\n",
    "        studies <- res$supporting_studies\n",
    "    }\n",
    "    else {\n",
    "        stop(\"Cannot find supporting studies\")\n",
    "    }\n",
    "  }\n",
    "  study_ids <- sapply(stringr::str_split(studies, \"@\"), '[', 1)\n",
    "  trees <- study_idssapply(stringr::str_split(studies, \"@\"), '[', 2)\n",
    "  return(list(study_ids, trees))\n",
    "}"
   ]
  },
  {
   "cell_type": "code",
   "execution_count": 40,
   "metadata": {},
   "outputs": [],
   "source": [
    "res <- rotl:::.tol_induced_subtree(ott_ids = c(292466, 267845, 316878, 102710))"
   ]
  },
  {
   "cell_type": "raw",
   "metadata": {},
   "source": [
    "ls(res)"
   ]
  },
  {
   "cell_type": "code",
   "execution_count": 41,
   "metadata": {},
   "outputs": [
    {
     "data": {
      "text/html": [
       "<dl>\n",
       "\t<dt>$study_ids</dt>\n",
       "\t\t<dd><ol class=list-inline>\n",
       "\t<li>'ot_425'</li>\n",
       "\t<li>'ot_521'</li>\n",
       "\t<li>'ot_809'</li>\n",
       "\t<li>'pg_2804'</li>\n",
       "\t<li>'ot_290'</li>\n",
       "\t<li>'ot_783'</li>\n",
       "\t<li>'pg_2015'</li>\n",
       "\t<li>'ot_531'</li>\n",
       "\t<li>'ot_782'</li>\n",
       "\t<li>'ot_841'</li>\n",
       "\t<li>'pg_2913'</li>\n",
       "\t<li>'ot_534'</li>\n",
       "\t<li>'ot_757'</li>\n",
       "\t<li>'pg_420'</li>\n",
       "\t<li>'ot_412'</li>\n",
       "\t<li>'ot_500'</li>\n",
       "\t<li>'ot_532'</li>\n",
       "\t<li>'pg_2404'</li>\n",
       "\t<li>'pg_2404'</li>\n",
       "\t<li>'pg_2913'</li>\n",
       "\t<li>'ot_111'</li>\n",
       "\t<li>'ot_753'</li>\n",
       "\t<li>'pg_2577'</li>\n",
       "\t<li>'ot_1002'</li>\n",
       "\t<li>'ot_1345'</li>\n",
       "\t<li>'ot_855'</li>\n",
       "\t<li>'ot_1174'</li>\n",
       "\t<li>'pg_2866'</li>\n",
       "\t<li>'ot_1022'</li>\n",
       "\t<li>'ot_314'</li>\n",
       "\t<li>'ot_1516'</li>\n",
       "</ol>\n",
       "</dd>\n",
       "\t<dt>$trees</dt>\n",
       "\t\t<dd><ol class=list-inline>\n",
       "\t<li>'tree1'</li>\n",
       "\t<li>'tree1'</li>\n",
       "\t<li>'tree2'</li>\n",
       "\t<li>'tree6511'</li>\n",
       "\t<li>'tree1'</li>\n",
       "\t<li>'tree1'</li>\n",
       "\t<li>'tree4152'</li>\n",
       "\t<li>'tree1'</li>\n",
       "\t<li>'Tr48736'</li>\n",
       "\t<li>'tree1'</li>\n",
       "\t<li>'tree6742'</li>\n",
       "\t<li>'tree1'</li>\n",
       "\t<li>'Tr70438'</li>\n",
       "\t<li>'tree522'</li>\n",
       "\t<li>'Tr77157'</li>\n",
       "\t<li>'tree1'</li>\n",
       "\t<li>'tree1'</li>\n",
       "\t<li>'tree5068'</li>\n",
       "\t<li>'tree6388'</li>\n",
       "\t<li>'tree6741'</li>\n",
       "\t<li>'tree1'</li>\n",
       "\t<li>'tree1'</li>\n",
       "\t<li>'tree5980'</li>\n",
       "\t<li>'tree1'</li>\n",
       "\t<li>'Tr109614'</li>\n",
       "\t<li>'tree1'</li>\n",
       "\t<li>'tree3'</li>\n",
       "\t<li>'tree6656'</li>\n",
       "\t<li>'tree1'</li>\n",
       "\t<li>'tree1'</li>\n",
       "\t<li>'Tr55113'</li>\n",
       "</ol>\n",
       "</dd>\n",
       "</dl>\n"
      ],
      "text/latex": [
       "\\begin{description}\n",
       "\\item[\\$study\\_ids] \\begin{enumerate*}\n",
       "\\item 'ot\\_425'\n",
       "\\item 'ot\\_521'\n",
       "\\item 'ot\\_809'\n",
       "\\item 'pg\\_2804'\n",
       "\\item 'ot\\_290'\n",
       "\\item 'ot\\_783'\n",
       "\\item 'pg\\_2015'\n",
       "\\item 'ot\\_531'\n",
       "\\item 'ot\\_782'\n",
       "\\item 'ot\\_841'\n",
       "\\item 'pg\\_2913'\n",
       "\\item 'ot\\_534'\n",
       "\\item 'ot\\_757'\n",
       "\\item 'pg\\_420'\n",
       "\\item 'ot\\_412'\n",
       "\\item 'ot\\_500'\n",
       "\\item 'ot\\_532'\n",
       "\\item 'pg\\_2404'\n",
       "\\item 'pg\\_2404'\n",
       "\\item 'pg\\_2913'\n",
       "\\item 'ot\\_111'\n",
       "\\item 'ot\\_753'\n",
       "\\item 'pg\\_2577'\n",
       "\\item 'ot\\_1002'\n",
       "\\item 'ot\\_1345'\n",
       "\\item 'ot\\_855'\n",
       "\\item 'ot\\_1174'\n",
       "\\item 'pg\\_2866'\n",
       "\\item 'ot\\_1022'\n",
       "\\item 'ot\\_314'\n",
       "\\item 'ot\\_1516'\n",
       "\\end{enumerate*}\n",
       "\n",
       "\\item[\\$trees] \\begin{enumerate*}\n",
       "\\item 'tree1'\n",
       "\\item 'tree1'\n",
       "\\item 'tree2'\n",
       "\\item 'tree6511'\n",
       "\\item 'tree1'\n",
       "\\item 'tree1'\n",
       "\\item 'tree4152'\n",
       "\\item 'tree1'\n",
       "\\item 'Tr48736'\n",
       "\\item 'tree1'\n",
       "\\item 'tree6742'\n",
       "\\item 'tree1'\n",
       "\\item 'Tr70438'\n",
       "\\item 'tree522'\n",
       "\\item 'Tr77157'\n",
       "\\item 'tree1'\n",
       "\\item 'tree1'\n",
       "\\item 'tree5068'\n",
       "\\item 'tree6388'\n",
       "\\item 'tree6741'\n",
       "\\item 'tree1'\n",
       "\\item 'tree1'\n",
       "\\item 'tree5980'\n",
       "\\item 'tree1'\n",
       "\\item 'Tr109614'\n",
       "\\item 'tree1'\n",
       "\\item 'tree3'\n",
       "\\item 'tree6656'\n",
       "\\item 'tree1'\n",
       "\\item 'tree1'\n",
       "\\item 'Tr55113'\n",
       "\\end{enumerate*}\n",
       "\n",
       "\\end{description}\n"
      ],
      "text/markdown": [
       "$study_ids\n",
       ":   1. 'ot_425'\n",
       "2. 'ot_521'\n",
       "3. 'ot_809'\n",
       "4. 'pg_2804'\n",
       "5. 'ot_290'\n",
       "6. 'ot_783'\n",
       "7. 'pg_2015'\n",
       "8. 'ot_531'\n",
       "9. 'ot_782'\n",
       "10. 'ot_841'\n",
       "11. 'pg_2913'\n",
       "12. 'ot_534'\n",
       "13. 'ot_757'\n",
       "14. 'pg_420'\n",
       "15. 'ot_412'\n",
       "16. 'ot_500'\n",
       "17. 'ot_532'\n",
       "18. 'pg_2404'\n",
       "19. 'pg_2404'\n",
       "20. 'pg_2913'\n",
       "21. 'ot_111'\n",
       "22. 'ot_753'\n",
       "23. 'pg_2577'\n",
       "24. 'ot_1002'\n",
       "25. 'ot_1345'\n",
       "26. 'ot_855'\n",
       "27. 'ot_1174'\n",
       "28. 'pg_2866'\n",
       "29. 'ot_1022'\n",
       "30. 'ot_314'\n",
       "31. 'ot_1516'\n",
       "\n",
       "\n",
       "\n",
       "$trees\n",
       ":   1. 'tree1'\n",
       "2. 'tree1'\n",
       "3. 'tree2'\n",
       "4. 'tree6511'\n",
       "5. 'tree1'\n",
       "6. 'tree1'\n",
       "7. 'tree4152'\n",
       "8. 'tree1'\n",
       "9. 'Tr48736'\n",
       "10. 'tree1'\n",
       "11. 'tree6742'\n",
       "12. 'tree1'\n",
       "13. 'Tr70438'\n",
       "14. 'tree522'\n",
       "15. 'Tr77157'\n",
       "16. 'tree1'\n",
       "17. 'tree1'\n",
       "18. 'tree5068'\n",
       "19. 'tree6388'\n",
       "20. 'tree6741'\n",
       "21. 'tree1'\n",
       "22. 'tree1'\n",
       "23. 'tree5980'\n",
       "24. 'tree1'\n",
       "25. 'Tr109614'\n",
       "26. 'tree1'\n",
       "27. 'tree3'\n",
       "28. 'tree6656'\n",
       "29. 'tree1'\n",
       "30. 'tree1'\n",
       "31. 'Tr55113'\n",
       "\n",
       "\n",
       "\n",
       "\n",
       "\n"
      ],
      "text/plain": [
       "$study_ids\n",
       " [1] \"ot_425\"  \"ot_521\"  \"ot_809\"  \"pg_2804\" \"ot_290\"  \"ot_783\"  \"pg_2015\"\n",
       " [8] \"ot_531\"  \"ot_782\"  \"ot_841\"  \"pg_2913\" \"ot_534\"  \"ot_757\"  \"pg_420\" \n",
       "[15] \"ot_412\"  \"ot_500\"  \"ot_532\"  \"pg_2404\" \"pg_2404\" \"pg_2913\" \"ot_111\" \n",
       "[22] \"ot_753\"  \"pg_2577\" \"ot_1002\" \"ot_1345\" \"ot_855\"  \"ot_1174\" \"pg_2866\"\n",
       "[29] \"ot_1022\" \"ot_314\"  \"ot_1516\"\n",
       "\n",
       "$trees\n",
       " [1] \"tree1\"    \"tree1\"    \"tree2\"    \"tree6511\" \"tree1\"    \"tree1\"   \n",
       " [7] \"tree4152\" \"tree1\"    \"Tr48736\"  \"tree1\"    \"tree6742\" \"tree1\"   \n",
       "[13] \"Tr70438\"  \"tree522\"  \"Tr77157\"  \"tree1\"    \"tree1\"    \"tree5068\"\n",
       "[19] \"tree6388\" \"tree6741\" \"tree1\"    \"tree1\"    \"tree5980\" \"tree1\"   \n",
       "[25] \"Tr109614\" \"tree1\"    \"tree3\"    \"tree6656\" \"tree1\"    \"tree1\"   \n",
       "[31] \"Tr55113\" \n"
      ]
     },
     "metadata": {},
     "output_type": "display_data"
    }
   ],
   "source": [
    "studies_from_otl(res)"
   ]
  },
  {
   "cell_type": "code",
   "execution_count": 42,
   "metadata": {},
   "outputs": [],
   "source": [
    "study_ids_andtrees <- studies_from_otl(res)"
   ]
  },
  {
   "cell_type": "code",
   "execution_count": 43,
   "metadata": {},
   "outputs": [
    {
     "data": {
      "text/html": [
       "'list'"
      ],
      "text/latex": [
       "'list'"
      ],
      "text/markdown": [
       "'list'"
      ],
      "text/plain": [
       "[1] \"list\""
      ]
     },
     "metadata": {},
     "output_type": "display_data"
    }
   ],
   "source": [
    "class(study_ids_andtrees)"
   ]
  },
  {
   "cell_type": "code",
   "execution_count": 44,
   "metadata": {},
   "outputs": [
    {
     "data": {
      "text/html": [
       "<ol class=list-inline>\n",
       "\t<li>'ot_425'</li>\n",
       "\t<li>'ot_521'</li>\n",
       "\t<li>'ot_809'</li>\n",
       "\t<li>'pg_2804'</li>\n",
       "\t<li>'ot_290'</li>\n",
       "\t<li>'ot_783'</li>\n",
       "\t<li>'pg_2015'</li>\n",
       "\t<li>'ot_531'</li>\n",
       "\t<li>'ot_782'</li>\n",
       "\t<li>'ot_841'</li>\n",
       "\t<li>'pg_2913'</li>\n",
       "\t<li>'ot_534'</li>\n",
       "\t<li>'ot_757'</li>\n",
       "\t<li>'pg_420'</li>\n",
       "\t<li>'ot_412'</li>\n",
       "\t<li>'ot_500'</li>\n",
       "\t<li>'ot_532'</li>\n",
       "\t<li>'pg_2404'</li>\n",
       "\t<li>'pg_2404'</li>\n",
       "\t<li>'pg_2913'</li>\n",
       "\t<li>'ot_111'</li>\n",
       "\t<li>'ot_753'</li>\n",
       "\t<li>'pg_2577'</li>\n",
       "\t<li>'ot_1002'</li>\n",
       "\t<li>'ot_1345'</li>\n",
       "\t<li>'ot_855'</li>\n",
       "\t<li>'ot_1174'</li>\n",
       "\t<li>'pg_2866'</li>\n",
       "\t<li>'ot_1022'</li>\n",
       "\t<li>'ot_314'</li>\n",
       "\t<li>'ot_1516'</li>\n",
       "</ol>\n"
      ],
      "text/latex": [
       "\\begin{enumerate*}\n",
       "\\item 'ot\\_425'\n",
       "\\item 'ot\\_521'\n",
       "\\item 'ot\\_809'\n",
       "\\item 'pg\\_2804'\n",
       "\\item 'ot\\_290'\n",
       "\\item 'ot\\_783'\n",
       "\\item 'pg\\_2015'\n",
       "\\item 'ot\\_531'\n",
       "\\item 'ot\\_782'\n",
       "\\item 'ot\\_841'\n",
       "\\item 'pg\\_2913'\n",
       "\\item 'ot\\_534'\n",
       "\\item 'ot\\_757'\n",
       "\\item 'pg\\_420'\n",
       "\\item 'ot\\_412'\n",
       "\\item 'ot\\_500'\n",
       "\\item 'ot\\_532'\n",
       "\\item 'pg\\_2404'\n",
       "\\item 'pg\\_2404'\n",
       "\\item 'pg\\_2913'\n",
       "\\item 'ot\\_111'\n",
       "\\item 'ot\\_753'\n",
       "\\item 'pg\\_2577'\n",
       "\\item 'ot\\_1002'\n",
       "\\item 'ot\\_1345'\n",
       "\\item 'ot\\_855'\n",
       "\\item 'ot\\_1174'\n",
       "\\item 'pg\\_2866'\n",
       "\\item 'ot\\_1022'\n",
       "\\item 'ot\\_314'\n",
       "\\item 'ot\\_1516'\n",
       "\\end{enumerate*}\n"
      ],
      "text/markdown": [
       "1. 'ot_425'\n",
       "2. 'ot_521'\n",
       "3. 'ot_809'\n",
       "4. 'pg_2804'\n",
       "5. 'ot_290'\n",
       "6. 'ot_783'\n",
       "7. 'pg_2015'\n",
       "8. 'ot_531'\n",
       "9. 'ot_782'\n",
       "10. 'ot_841'\n",
       "11. 'pg_2913'\n",
       "12. 'ot_534'\n",
       "13. 'ot_757'\n",
       "14. 'pg_420'\n",
       "15. 'ot_412'\n",
       "16. 'ot_500'\n",
       "17. 'ot_532'\n",
       "18. 'pg_2404'\n",
       "19. 'pg_2404'\n",
       "20. 'pg_2913'\n",
       "21. 'ot_111'\n",
       "22. 'ot_753'\n",
       "23. 'pg_2577'\n",
       "24. 'ot_1002'\n",
       "25. 'ot_1345'\n",
       "26. 'ot_855'\n",
       "27. 'ot_1174'\n",
       "28. 'pg_2866'\n",
       "29. 'ot_1022'\n",
       "30. 'ot_314'\n",
       "31. 'ot_1516'\n",
       "\n",
       "\n"
      ],
      "text/plain": [
       " [1] \"ot_425\"  \"ot_521\"  \"ot_809\"  \"pg_2804\" \"ot_290\"  \"ot_783\"  \"pg_2015\"\n",
       " [8] \"ot_531\"  \"ot_782\"  \"ot_841\"  \"pg_2913\" \"ot_534\"  \"ot_757\"  \"pg_420\" \n",
       "[15] \"ot_412\"  \"ot_500\"  \"ot_532\"  \"pg_2404\" \"pg_2404\" \"pg_2913\" \"ot_111\" \n",
       "[22] \"ot_753\"  \"pg_2577\" \"ot_1002\" \"ot_1345\" \"ot_855\"  \"ot_1174\" \"pg_2866\"\n",
       "[29] \"ot_1022\" \"ot_314\"  \"ot_1516\""
      ]
     },
     "metadata": {},
     "output_type": "display_data"
    }
   ],
   "source": [
    "study_ids_andtrees[[1]]"
   ]
  },
  {
   "cell_type": "code",
   "execution_count": 52,
   "metadata": {},
   "outputs": [],
   "source": [
    "write(paste(citations, collapse = '\\n'), file = 'cites.txt')"
   ]
  },
  {
   "cell_type": "code",
   "execution_count": 1,
   "metadata": {},
   "outputs": [],
   "source": [
    "##' @export\n",
    "##' @param study_ids is a vector of study ids\n",
    "get_publication.vector <- function(study_id){\n",
    "  citations <- sapply(study_ids, function(x) rotl::get_publication.study_meta(rotl::get_study_meta(study_id = x)))\n",
    "  return(citations)\n",
    "}"
   ]
  },
  {
   "cell_type": "code",
   "execution_count": 50,
   "metadata": {},
   "outputs": [
    {
     "data": {
      "text/html": [
       "'/Users/luna/pj_opentree/opentree-ipynb/ipynb'"
      ],
      "text/latex": [
       "'/Users/luna/pj\\_opentree/opentree-ipynb/ipynb'"
      ],
      "text/markdown": [
       "'/Users/luna/pj_opentree/opentree-ipynb/ipynb'"
      ],
      "text/plain": [
       "[1] \"/Users/luna/pj_opentree/opentree-ipynb/ipynb\""
      ]
     },
     "metadata": {},
     "output_type": "display_data"
    },
    {
     "name": "stderr",
     "output_type": "stream",
     "text": [
      "Loading rotl\n",
      "\n"
     ]
    }
   ],
   "source": [
    "getwd()\n",
    "devtools::load_all('/Users/luna/pj_opentree/rotl')"
   ]
  },
  {
   "cell_type": "markdown",
   "metadata": {},
   "source": [
    "# New functions"
   ]
  },
  {
   "cell_type": "code",
   "execution_count": 22,
   "metadata": {},
   "outputs": [],
   "source": [
    "##' @export\n",
    "##' @param study_ids is a vector of study ids\n",
    "get_publication.vector <- function(study_ids){\n",
    "  citations <- sapply(study_ids, function(x) rotl::get_publication.study_meta(rotl::get_study_meta(study_id = x)))\n",
    "  return(citations)\n",
    "}"
   ]
  },
  {
   "cell_type": "code",
   "execution_count": 23,
   "metadata": {},
   "outputs": [],
   "source": [
    "# res is an output from .tol_induced_subtree or .tol_subtree\n",
    "# returns a list with tree and study ids supporting a subtree\n",
    "studies_from_otl <- function(res){\n",
    "  if (is.list(res)) {\n",
    "    if (!is.null(res$supporting_studies)) {\n",
    "        studies <- res$supporting_studies\n",
    "    }\n",
    "    else {\n",
    "        stop(\"Cannot find supporting studies\")\n",
    "    }\n",
    "  }\n",
    "  study_ids <- sapply(stringr::str_split(studies, \"@\"), '[', 1)\n",
    "  trees <- sapply(stringr::str_split(studies, \"@\"), '[', 2)\n",
    "  return(list(study_ids = study_ids, trees = trees))\n",
    "}"
   ]
  },
  {
   "cell_type": "code",
   "execution_count": 55,
   "metadata": {},
   "outputs": [],
   "source": [
    "# add arguments to .tol_induced_subtree\n",
    "# get_citations = TRUE\n",
    "\n",
    "tol_induced_subtree <- function(ott_ids = NULL, node_ids = NULL, label_format = NULL,\n",
    "                                file, get_citations = TRUE, ...) {\n",
    "  res <- .tol_induced_subtree(\n",
    "    ott_ids = ott_ids, node_ids = node_ids,\n",
    "    label_format = label_format, ...\n",
    "  )\n",
    "  if(get_citations){\n",
    "    if (!missing(file)) {\n",
    "      filecit <- paste0(file, \"_citations.txt\")\n",
    "    } else {\n",
    "      filecit <- \"citations.txt\"\n",
    "    }\n",
    "    citations <- get_publication.vector(studies_from_otl(res)$study_ids)\n",
    "    unlink(filecit)\n",
    "    cat(paste(citations, collapse = '\\n\\n'), file = filecit)\n",
    "  }\n",
    "  if (!missing(file)) {\n",
    "    unlink(file)\n",
    "    cat(res$newick, file = file)\n",
    "    return(file.exists(file))\n",
    "  } else {\n",
    "    phy <- phylo_from_otl(res)\n",
    "    return(phy)\n",
    "  }\n",
    "}\n"
   ]
  },
  {
   "cell_type": "code",
   "execution_count": 56,
   "metadata": {},
   "outputs": [
    {
     "name": "stderr",
     "output_type": "stream",
     "text": [
      "Warning message in collapse_singles(tr, show_progress):\n",
      "“Dropping singleton nodes with labels: mrcaott246ott5481, mrcaott246ott5021, mrcaott246ott7145, mrcaott246ott5272, mrcaott246ott928360, mrcaott246ott1858, mrcaott246ott2907, mrcaott246ott3600042, mrcaott246ott47588, mrcaott246ott7113, Passeriformes ott1041547, mrcaott246ott3212, mrcaott246ott428578, mrcaott246ott44866, mrcaott246ott5929, mrcaott246ott32658, mrcaott246ott4820, mrcaott246ott22325, mrcaott246ott176461, mrcaott246ott10351, mrcaott246ott1488, mrcaott246ott3364, mrcaott246ott5934, mrcaott246ott1566, mrcaott1566ott3598440, mrcaott1566ott496009, Cinclidae ott496027, mrcaott4765ott6520193, Galliformes ott837585, mrcaott4765ott6520194, mrcaott4765ott109888, mrcaott4765ott75785, mrcaott4765ott104461, mrcaott4765ott151684, mrcaott4765ott54193, mrcaott4765ott49319, mrcaott4765ott49310, mrcaott4765ott415487, mrcaott4765ott51354, mrcaott4765ott53700, mrcaott53700ott572162, mrcaott53700ott466627, Anseriformes ott241841, mrcaott30843ott714464, Anatidae ott765193, mrcaott30843ott75874, mrcaott30843ott962771, mrcaott30843ott145504, mrcaott145504ott316879, mrcaott84218ott1007318, Struthionidae ott857849”\n"
     ]
    },
    {
     "data": {
      "text/plain": [
       "\n",
       "Phylogenetic tree with 4 tips and 3 internal nodes.\n",
       "\n",
       "Tip labels:\n",
       "[1] \"Cinclus_ott267845\"  \"Perdix_ott102710\"   \"Clangula_ott316878\"\n",
       "[4] \"Struthio_ott292466\"\n",
       "Node labels:\n",
       "[1] \"Aves ott81461\"       \"mrcaott246ott4765\"   \"mrcaott4765ott30843\"\n",
       "\n",
       "Rooted; no branch lengths."
      ]
     },
     "metadata": {},
     "output_type": "display_data"
    }
   ],
   "source": [
    "tol_induced_subtree(c(292466, 267845, 316878, 102710))"
   ]
  },
  {
   "cell_type": "code",
   "execution_count": 57,
   "metadata": {},
   "outputs": [
    {
     "data": {
      "text/html": [
       "TRUE"
      ],
      "text/latex": [
       "TRUE"
      ],
      "text/markdown": [
       "TRUE"
      ],
      "text/plain": [
       "[1] TRUE"
      ]
     },
     "metadata": {},
     "output_type": "display_data"
    }
   ],
   "source": [
    "tol_induced_subtree(c(292466, 267845, 316878, 102710), file = \"test2\")"
   ]
  },
  {
   "cell_type": "code",
   "execution_count": null,
   "metadata": {},
   "outputs": [],
   "source": []
  }
 ],
 "metadata": {
  "kernelspec": {
   "display_name": "R",
   "language": "R",
   "name": "ir"
  },
  "language_info": {
   "codemirror_mode": "r",
   "file_extension": ".r",
   "mimetype": "text/x-r-source",
   "name": "R",
   "pygments_lexer": "r",
   "version": "3.6.0"
  }
 },
 "nbformat": 4,
 "nbformat_minor": 2
}
