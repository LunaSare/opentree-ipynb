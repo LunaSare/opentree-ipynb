{
 "cells": [
  {
   "cell_type": "markdown",
   "metadata": {},
   "source": [
    "# test functions to get citations\n",
    "## you will need the devtools package\n",
    "install.packages(\"devtools\")"
   ]
  },
  {
   "cell_type": "code",
   "execution_count": null,
   "metadata": {},
   "outputs": [],
   "source": [
    "getwd()\n",
    "devtools::load_all('/replace/with/path/to/your/clone/of/package/rotl')"
   ]
  },
  {
   "cell_type": "code",
   "execution_count": null,
   "metadata": {},
   "outputs": [],
   "source": [
    "##' @export\n",
    "##' @param study_ids is a vector of study ids\n",
    "get_publication.vector <- function(study_ids){\n",
    "  citations <- sapply(study_ids, function(x) rotl::get_publication.study_meta(rotl::get_study_meta(study_id = x)))\n",
    "  return(citations)\n",
    "}"
   ]
  },
  {
   "cell_type": "code",
   "execution_count": null,
   "metadata": {},
   "outputs": [],
   "source": [
    "# res is an output from .tol_induced_subtree or .tol_subtree\n",
    "# returns a list with tree and study ids supporting a subtree\n",
    "studies_from_otl <- function(res){\n",
    "  if (is.list(res)) {\n",
    "    if (!is.null(res$supporting_studies)) {\n",
    "        studies <- res$supporting_studies\n",
    "    }\n",
    "    else {\n",
    "        stop(\"Cannot find supporting studies\")\n",
    "    }\n",
    "  }\n",
    "  study_ids <- sapply(stringr::str_split(studies, \"@\"), '[', 1)\n",
    "  trees <- sapply(stringr::str_split(studies, \"@\"), '[', 2)\n",
    "  return(list(study_ids = study_ids, trees = trees))\n",
    "}"
   ]
  },
  {
   "cell_type": "code",
   "execution_count": null,
   "metadata": {},
   "outputs": [],
   "source": [
    "# add arguments to .tol_induced_subtree\n",
    "# get_citations = TRUE\n",
    "\n",
    "tol_induced_subtree <- function(ott_ids = NULL, node_ids = NULL, label_format = NULL,\n",
    "                                file, get_citations = TRUE, ...) {\n",
    "  res <- .tol_induced_subtree(\n",
    "    ott_ids = ott_ids, node_ids = node_ids,\n",
    "    label_format = label_format, ...\n",
    "  )\n",
    "  if(get_citations){\n",
    "    if (!missing(file)) {\n",
    "      filecit <- paste0(file, \"_citations.txt\")\n",
    "    } else {\n",
    "      filecit <- \"citations.txt\"\n",
    "    }\n",
    "    citations <- get_publication.vector(studies_from_otl(res)$study_ids)\n",
    "    unlink(filecit)\n",
    "    cat(paste(citations, collapse = '\\n\\n'), file = filecit)\n",
    "  }\n",
    "  if (!missing(file)) {\n",
    "    unlink(file)\n",
    "    cat(res$newick, file = file)\n",
    "    return(file.exists(file))\n",
    "  } else {\n",
    "    phy <- phylo_from_otl(res)\n",
    "    return(phy)\n",
    "  }\n",
    "}"
   ]
  },
  {
   "cell_type": "code",
   "execution_count": null,
   "metadata": {},
   "outputs": [],
   "source": [
    "# try the new function when NO file name is provided\n",
    "tol_induced_subtree(c(292466, 267845, 316878, 102710), get_citations = TRUE)"
   ]
  },
  {
   "cell_type": "code",
   "execution_count": null,
   "metadata": {},
   "outputs": [],
   "source": [
    "# try the new function when the file name IS provided\n",
    "tol_induced_subtree(c(292466, 267845, 316878, 102710), file = \"test\", get_citations = TRUE)"
   ]
  }
 ],
 "metadata": {
  "kernelspec": {
   "display_name": "R",
   "language": "R",
   "name": "ir"
  },
  "language_info": {
   "codemirror_mode": "r",
   "file_extension": ".r",
   "mimetype": "text/x-r-source",
   "name": "R",
   "pygments_lexer": "r",
   "version": "3.6.0"
  }
 },
 "nbformat": 4,
 "nbformat_minor": 2
}
